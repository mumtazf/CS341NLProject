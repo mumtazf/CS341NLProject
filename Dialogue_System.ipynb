{
 "cells": [
  {
   "cell_type": "code",
   "execution_count": 34,
   "metadata": {},
   "outputs": [
    {
     "name": "stderr",
     "output_type": "stream",
     "text": [
      "Python(71079) MallocStackLogging: can't turn off malloc stack logging because it was not enabled.\n"
     ]
    },
    {
     "name": "stdout",
     "output_type": "stream",
     "text": [
      "Requirement already satisfied: transformers in /Library/Frameworks/Python.framework/Versions/3.9/lib/python3.9/site-packages (4.46.3)\n",
      "Requirement already satisfied: datasets in /Library/Frameworks/Python.framework/Versions/3.9/lib/python3.9/site-packages (3.1.0)\n",
      "Requirement already satisfied: torch in /Library/Frameworks/Python.framework/Versions/3.9/lib/python3.9/site-packages (2.2.2)\n",
      "Requirement already satisfied: filelock in /Library/Frameworks/Python.framework/Versions/3.9/lib/python3.9/site-packages (from transformers) (3.16.1)\n",
      "Requirement already satisfied: huggingface-hub<1.0,>=0.23.2 in /Library/Frameworks/Python.framework/Versions/3.9/lib/python3.9/site-packages (from transformers) (0.26.3)\n",
      "Requirement already satisfied: numpy>=1.17 in /Library/Frameworks/Python.framework/Versions/3.9/lib/python3.9/site-packages (from transformers) (2.0.2)\n",
      "Requirement already satisfied: packaging>=20.0 in /Users/jenniferzhuang/Library/Python/3.9/lib/python/site-packages (from transformers) (24.2)\n",
      "Requirement already satisfied: pyyaml>=5.1 in /Library/Frameworks/Python.framework/Versions/3.9/lib/python3.9/site-packages (from transformers) (6.0.2)\n",
      "Requirement already satisfied: regex!=2019.12.17 in /Library/Frameworks/Python.framework/Versions/3.9/lib/python3.9/site-packages (from transformers) (2024.11.6)\n",
      "Requirement already satisfied: requests in /Library/Frameworks/Python.framework/Versions/3.9/lib/python3.9/site-packages (from transformers) (2.32.3)\n",
      "Requirement already satisfied: tokenizers<0.21,>=0.20 in /Library/Frameworks/Python.framework/Versions/3.9/lib/python3.9/site-packages (from transformers) (0.20.3)\n",
      "Requirement already satisfied: safetensors>=0.4.1 in /Library/Frameworks/Python.framework/Versions/3.9/lib/python3.9/site-packages (from transformers) (0.4.5)\n",
      "Requirement already satisfied: tqdm>=4.27 in /Library/Frameworks/Python.framework/Versions/3.9/lib/python3.9/site-packages (from transformers) (4.67.1)\n",
      "Requirement already satisfied: pyarrow>=15.0.0 in /Library/Frameworks/Python.framework/Versions/3.9/lib/python3.9/site-packages (from datasets) (18.1.0)\n",
      "Requirement already satisfied: dill<0.3.9,>=0.3.0 in /Library/Frameworks/Python.framework/Versions/3.9/lib/python3.9/site-packages (from datasets) (0.3.8)\n",
      "Requirement already satisfied: pandas in /Library/Frameworks/Python.framework/Versions/3.9/lib/python3.9/site-packages (from datasets) (2.2.3)\n",
      "Requirement already satisfied: xxhash in /Library/Frameworks/Python.framework/Versions/3.9/lib/python3.9/site-packages (from datasets) (3.5.0)\n",
      "Requirement already satisfied: multiprocess<0.70.17 in /Library/Frameworks/Python.framework/Versions/3.9/lib/python3.9/site-packages (from datasets) (0.70.16)\n",
      "Requirement already satisfied: fsspec<=2024.9.0,>=2023.1.0 in /Library/Frameworks/Python.framework/Versions/3.9/lib/python3.9/site-packages (from fsspec[http]<=2024.9.0,>=2023.1.0->datasets) (2024.9.0)\n",
      "Requirement already satisfied: aiohttp in /Library/Frameworks/Python.framework/Versions/3.9/lib/python3.9/site-packages (from datasets) (3.11.9)\n",
      "Requirement already satisfied: typing-extensions>=4.8.0 in /Users/jenniferzhuang/Library/Python/3.9/lib/python/site-packages (from torch) (4.12.2)\n",
      "Requirement already satisfied: sympy in /Library/Frameworks/Python.framework/Versions/3.9/lib/python3.9/site-packages (from torch) (1.13.3)\n",
      "Requirement already satisfied: networkx in /Library/Frameworks/Python.framework/Versions/3.9/lib/python3.9/site-packages (from torch) (3.2.1)\n",
      "Requirement already satisfied: jinja2 in /Library/Frameworks/Python.framework/Versions/3.9/lib/python3.9/site-packages (from torch) (3.1.4)\n",
      "Requirement already satisfied: aiohappyeyeballs>=2.3.0 in /Library/Frameworks/Python.framework/Versions/3.9/lib/python3.9/site-packages (from aiohttp->datasets) (2.4.4)\n",
      "Requirement already satisfied: aiosignal>=1.1.2 in /Library/Frameworks/Python.framework/Versions/3.9/lib/python3.9/site-packages (from aiohttp->datasets) (1.3.1)\n",
      "Requirement already satisfied: async-timeout<6.0,>=4.0 in /Library/Frameworks/Python.framework/Versions/3.9/lib/python3.9/site-packages (from aiohttp->datasets) (5.0.1)\n",
      "Requirement already satisfied: attrs>=17.3.0 in /Library/Frameworks/Python.framework/Versions/3.9/lib/python3.9/site-packages (from aiohttp->datasets) (24.2.0)\n",
      "Requirement already satisfied: frozenlist>=1.1.1 in /Library/Frameworks/Python.framework/Versions/3.9/lib/python3.9/site-packages (from aiohttp->datasets) (1.5.0)\n",
      "Requirement already satisfied: multidict<7.0,>=4.5 in /Library/Frameworks/Python.framework/Versions/3.9/lib/python3.9/site-packages (from aiohttp->datasets) (6.1.0)\n",
      "Requirement already satisfied: propcache>=0.2.0 in /Library/Frameworks/Python.framework/Versions/3.9/lib/python3.9/site-packages (from aiohttp->datasets) (0.2.1)\n",
      "Requirement already satisfied: yarl<2.0,>=1.17.0 in /Library/Frameworks/Python.framework/Versions/3.9/lib/python3.9/site-packages (from aiohttp->datasets) (1.18.3)\n",
      "Requirement already satisfied: charset-normalizer<4,>=2 in /Library/Frameworks/Python.framework/Versions/3.9/lib/python3.9/site-packages (from requests->transformers) (3.4.0)\n",
      "Requirement already satisfied: idna<4,>=2.5 in /Library/Frameworks/Python.framework/Versions/3.9/lib/python3.9/site-packages (from requests->transformers) (3.10)\n",
      "Requirement already satisfied: urllib3<3,>=1.21.1 in /Library/Frameworks/Python.framework/Versions/3.9/lib/python3.9/site-packages (from requests->transformers) (2.2.3)\n",
      "Requirement already satisfied: certifi>=2017.4.17 in /Library/Frameworks/Python.framework/Versions/3.9/lib/python3.9/site-packages (from requests->transformers) (2024.8.30)\n",
      "Requirement already satisfied: MarkupSafe>=2.0 in /Library/Frameworks/Python.framework/Versions/3.9/lib/python3.9/site-packages (from jinja2->torch) (3.0.2)\n",
      "Requirement already satisfied: python-dateutil>=2.8.2 in /Users/jenniferzhuang/Library/Python/3.9/lib/python/site-packages (from pandas->datasets) (2.9.0.post0)\n",
      "Requirement already satisfied: pytz>=2020.1 in /Library/Frameworks/Python.framework/Versions/3.9/lib/python3.9/site-packages (from pandas->datasets) (2024.2)\n",
      "Requirement already satisfied: tzdata>=2022.7 in /Library/Frameworks/Python.framework/Versions/3.9/lib/python3.9/site-packages (from pandas->datasets) (2024.2)\n",
      "Requirement already satisfied: mpmath<1.4,>=1.1.0 in /Library/Frameworks/Python.framework/Versions/3.9/lib/python3.9/site-packages (from sympy->torch) (1.3.0)\n",
      "Requirement already satisfied: six>=1.5 in /Users/jenniferzhuang/Library/Python/3.9/lib/python/site-packages (from python-dateutil>=2.8.2->pandas->datasets) (1.16.0)\n",
      "Note: you may need to restart the kernel to use updated packages.\n"
     ]
    }
   ],
   "source": [
    "pip install transformers datasets torch"
   ]
  },
  {
   "cell_type": "code",
   "execution_count": 35,
   "metadata": {},
   "outputs": [],
   "source": [
    "from transformers import BertTokenizer, BertForSequenceClassification, Trainer, TrainingArguments\n",
    "from datasets import load_dataset, Dataset\n",
    "import torch"
   ]
  },
  {
   "cell_type": "code",
   "execution_count": 36,
   "metadata": {},
   "outputs": [],
   "source": [
    "# Load training utterances and answers\n",
    "with open(\"data/train_utt.txt\", \"r\") as f:\n",
    "    utterances = f.readlines()\n",
    "\n",
    "with open(\"data/train_ans.txt\", \"r\") as f:\n",
    "    slots = f.readlines()\n",
    "\n",
    "# Strip whitespace\n",
    "utterances = [utt.strip() for utt in utterances]\n",
    "slots = [slot.strip() for slot in slots]\n"
   ]
  },
  {
   "cell_type": "markdown",
   "metadata": {},
   "source": [
    "Parsing slot annotations into dictionaries and pairing them with their respective utterances. This part was intended to help us understanding the parsing process for our utterances. "
   ]
  },
  {
   "cell_type": "code",
   "execution_count": 37,
   "metadata": {},
   "outputs": [
    {
     "name": "stdout",
     "output_type": "stream",
     "text": [
      "Utterance 1: Can you show me laptops from a specific brand, like Apple?\n",
      "{'brand': 'Apple'}\n",
      "\n",
      "Utterance 2: I need a budget-friendly laptop. What’s the cheapest one you have?\n",
      "{'price': 'cheap'}\n",
      "\n",
      "Utterance 3: I need a laptop with a powerful processor for heavy tasks. Any suggestions?\n",
      "{'processor_tier': 'high'}\n",
      "\n",
      "Utterance 4: Can you recommend a laptop with at least a Core i5 processor?\n",
      "{'processor_tier': 'i5+'}\n",
      "\n",
      "Utterance 5: I need a compact laptop with a smaller display. What are my options?\n",
      "{'display_size': 'small'}\n",
      "\n",
      "Utterance 6: What’s the most affordable laptop with a 15.6-inch display?\n",
      "{'display_size': '15.6', 'price': 'cheap'}\n",
      "\n",
      "Utterance 7: I am trying to find a laptop that has a core i9 processor and display size of 15.6, what are my options?\n",
      "{'processor_tier': 'i9', 'display_size': '15.6'}\n",
      "\n",
      "Utterance 8: I am looking specifically for a Samsung laptop.\n",
      "{'brand': 'Samsung'}\n",
      "\n",
      "Utterance 9: I want a laptop that has at least 16GB RAM and doesn’t cost more than $500. Any options?\n",
      "{'ram_memory': '16GB', 'price': '500'}\n",
      "\n",
      "Utterance 10: What’s the best laptop for coding with lots of RAM and a decent processor?\n",
      "{'ram_memory': '16GB+', 'processor_tier': 'decent'}\n",
      "\n"
     ]
    }
   ],
   "source": [
    "def parse_slots(slot):\n",
    "    pairs = slot.split(\"|\")[1:] \n",
    "    slot_dict = {}\n",
    "    for pair in pairs:\n",
    "        key, value = pair.split(\"=\")\n",
    "        slot_dict[key] = value\n",
    "    return slot_dict\n",
    "\n",
    "# Convert slot strings to dictionaries\n",
    "slot_dicts = [parse_slots(slot) for slot in slots]\n",
    "\n",
    "# Combine utterances with their parsed slot dictionaries\n",
    "utterance_slot_pairs = list(zip(utterances, slot_dicts))\n",
    "\n",
    "# Display the parsed dictionaries\n",
    "for i, (utterance, slot_dict) in enumerate(utterance_slot_pairs[:10]):  # Limit to first 10\n",
    "    print(f\"Utterance {i+1}: {utterance}\")\n",
    "    print(f\"{slot_dict}\")\n",
    "    print()"
   ]
  },
  {
   "cell_type": "code",
   "execution_count": 44,
   "metadata": {},
   "outputs": [
    {
     "data": {
      "text/plain": [
       "defaultdict(<function __main__.<lambda>()>,\n",
       "            {'brand': defaultdict(set,\n",
       "                         {'values': {'ASUS',\n",
       "                           'Apple',\n",
       "                           'Dell',\n",
       "                           'HP',\n",
       "                           'Microsoft',\n",
       "                           'Samsung',\n",
       "                           'lenovo'}}),\n",
       "             'price': defaultdict(set,\n",
       "                         {'values': {'500',\n",
       "                           '700',\n",
       "                           'cheap',\n",
       "                           'expensive',\n",
       "                           'mid-range'}}),\n",
       "             'processor_tier': defaultdict(set,\n",
       "                         {'values': {'core i7',\n",
       "                           'decent',\n",
       "                           'high',\n",
       "                           'i5+',\n",
       "                           'i7',\n",
       "                           'i9',\n",
       "                           'latest',\n",
       "                           'm1',\n",
       "                           'm2'}}),\n",
       "             'display_size': defaultdict(set,\n",
       "                         {'values': {'13', '14', '15', '15.6', 'small'}}),\n",
       "             'ram_memory': defaultdict(set,\n",
       "                         {'values': {'16GB',\n",
       "                           '16GB+',\n",
       "                           '256GB+',\n",
       "                           '32GB',\n",
       "                           '8GB',\n",
       "                           '8GB+',\n",
       "                           'max'}})})"
      ]
     },
     "execution_count": 44,
     "metadata": {},
     "output_type": "execute_result"
    }
   ],
   "source": [
    "from collections import defaultdict\n",
    "\n",
    "# Initialize slot-specific contexts and answers\n",
    "brand_context = []\n",
    "brand_answers = []\n",
    "price_context = []\n",
    "price_answers = []\n",
    "processor_context = []\n",
    "processor_answers = []\n",
    "display_context = []\n",
    "display_answers = []\n",
    "\n",
    "# Dictionary to store slots and their unique values\n",
    "slot_dic = defaultdict(lambda: defaultdict(set))\n",
    "\n",
    "# Load the files\n",
    "with open(\"data/train_utt.txt\") as f1, open(\"data/train_ans.txt\") as f2:\n",
    "    utterances = f1.readlines()\n",
    "    for i, line in enumerate(f2.readlines()):\n",
    "        a_line = line.strip()\n",
    "        ans = a_line.split('|')\n",
    "        # The intent (always 'find_laptop')\n",
    "        intent = ans[0] \n",
    "        \n",
    "        # Process slots in the answer\n",
    "        for a in ans[1:]:\n",
    "            if \"!=\" in a:  # Handle negated slots\n",
    "                slot_name, slot_value = a.split(\"!=\")\n",
    "            else:  # Handle regular slots\n",
    "                slot_name, slot_value = a.split(\"=\")\n",
    "            \n",
    "            # Collect context and answers for specific slots\n",
    "            if slot_name == \"brand\":\n",
    "                brand_context.append(utterances[i].strip())\n",
    "                brand_answers.append(slot_value)\n",
    "            if slot_name == \"price\":\n",
    "                price_context.append(utterances[i].strip())\n",
    "                price_answers.append(slot_value)\n",
    "            if slot_name == \"processor_tier\":\n",
    "                processor_context.append(utterances[i].strip())\n",
    "                processor_answers.append(slot_value)\n",
    "            if slot_name == \"display_size\":\n",
    "                display_context.append(utterances[i].strip())\n",
    "                display_answers.append(slot_value)\n",
    "            \n",
    "            # Add slot values to the slot dictionary\n",
    "            slot_dic[slot_name][\"values\"].add(slot_value)\n",
    "\n",
    "# Display the slot dictionary\n",
    "slot_dic"
   ]
  },
  {
   "cell_type": "code",
   "execution_count": 42,
   "metadata": {},
   "outputs": [
    {
     "data": {
      "text/plain": [
       "['Can you show me laptops from a specific brand, like Apple?',\n",
       " 'I am looking specifically for a Samsung laptop.',\n",
       " 'Can you recommend a laptop with a small display size but that is not an Apple brand?']"
      ]
     },
     "execution_count": 42,
     "metadata": {},
     "output_type": "execute_result"
    }
   ],
   "source": [
    "brand_context[:3]"
   ]
  },
  {
   "cell_type": "code",
   "execution_count": 43,
   "metadata": {},
   "outputs": [
    {
     "data": {
      "text/plain": [
       "['Apple', 'Samsung', 'Apple']"
      ]
     },
     "execution_count": 43,
     "metadata": {},
     "output_type": "execute_result"
    }
   ],
   "source": [
    "brand_answers[:3]"
   ]
  },
  {
   "cell_type": "markdown",
   "metadata": {},
   "source": [
    "Edge Case: Negation for specific "
   ]
  }
 ],
 "metadata": {
  "kernelspec": {
   "display_name": "Python 3",
   "language": "python",
   "name": "python3"
  },
  "language_info": {
   "codemirror_mode": {
    "name": "ipython",
    "version": 3
   },
   "file_extension": ".py",
   "mimetype": "text/x-python",
   "name": "python",
   "nbconvert_exporter": "python",
   "pygments_lexer": "ipython3",
   "version": "3.9.7"
  }
 },
 "nbformat": 4,
 "nbformat_minor": 2
}
