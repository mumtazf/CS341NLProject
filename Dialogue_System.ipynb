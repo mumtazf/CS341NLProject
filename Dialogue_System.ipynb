{
 "cells": [
  {
   "cell_type": "code",
   "execution_count": 66,
   "metadata": {},
   "outputs": [
    {
     "name": "stderr",
     "output_type": "stream",
     "text": [
      "huggingface/tokenizers: The current process just got forked, after parallelism has already been used. Disabling parallelism to avoid deadlocks...\n",
      "To disable this warning, you can either:\n",
      "\t- Avoid using `tokenizers` before the fork if possible\n",
      "\t- Explicitly set the environment variable TOKENIZERS_PARALLELISM=(true | false)\n"
     ]
    },
    {
     "name": "stdout",
     "output_type": "stream",
     "text": [
      "Requirement already satisfied: transformers in /Library/Frameworks/Python.framework/Versions/3.9/lib/python3.9/site-packages (4.47.0)\n",
      "Requirement already satisfied: datasets in /Library/Frameworks/Python.framework/Versions/3.9/lib/python3.9/site-packages (3.1.0)\n",
      "Requirement already satisfied: torch in /Library/Frameworks/Python.framework/Versions/3.9/lib/python3.9/site-packages (2.2.2)\n",
      "Requirement already satisfied: filelock in /Library/Frameworks/Python.framework/Versions/3.9/lib/python3.9/site-packages (from transformers) (3.16.1)\n",
      "Requirement already satisfied: huggingface-hub<1.0,>=0.24.0 in /Library/Frameworks/Python.framework/Versions/3.9/lib/python3.9/site-packages (from transformers) (0.26.5)\n",
      "Requirement already satisfied: numpy>=1.17 in /Library/Frameworks/Python.framework/Versions/3.9/lib/python3.9/site-packages (from transformers) (1.26.4)\n",
      "Requirement already satisfied: packaging>=20.0 in /Users/jenniferzhuang/Library/Python/3.9/lib/python/site-packages (from transformers) (24.2)\n",
      "Requirement already satisfied: pyyaml>=5.1 in /Library/Frameworks/Python.framework/Versions/3.9/lib/python3.9/site-packages (from transformers) (6.0.2)\n",
      "Requirement already satisfied: regex!=2019.12.17 in /Library/Frameworks/Python.framework/Versions/3.9/lib/python3.9/site-packages (from transformers) (2024.11.6)\n",
      "Requirement already satisfied: requests in /Library/Frameworks/Python.framework/Versions/3.9/lib/python3.9/site-packages (from transformers) (2.32.3)\n",
      "Requirement already satisfied: tokenizers<0.22,>=0.21 in /Library/Frameworks/Python.framework/Versions/3.9/lib/python3.9/site-packages (from transformers) (0.21.0)\n",
      "Requirement already satisfied: safetensors>=0.4.1 in /Library/Frameworks/Python.framework/Versions/3.9/lib/python3.9/site-packages (from transformers) (0.4.5)\n",
      "Requirement already satisfied: tqdm>=4.27 in /Library/Frameworks/Python.framework/Versions/3.9/lib/python3.9/site-packages (from transformers) (4.67.1)\n",
      "Requirement already satisfied: pyarrow>=15.0.0 in /Library/Frameworks/Python.framework/Versions/3.9/lib/python3.9/site-packages (from datasets) (18.1.0)\n",
      "Requirement already satisfied: dill<0.3.9,>=0.3.0 in /Library/Frameworks/Python.framework/Versions/3.9/lib/python3.9/site-packages (from datasets) (0.3.8)\n",
      "Requirement already satisfied: pandas in /Library/Frameworks/Python.framework/Versions/3.9/lib/python3.9/site-packages (from datasets) (2.2.3)\n",
      "Requirement already satisfied: xxhash in /Library/Frameworks/Python.framework/Versions/3.9/lib/python3.9/site-packages (from datasets) (3.5.0)\n",
      "Requirement already satisfied: multiprocess<0.70.17 in /Library/Frameworks/Python.framework/Versions/3.9/lib/python3.9/site-packages (from datasets) (0.70.16)\n",
      "Requirement already satisfied: fsspec<=2024.9.0,>=2023.1.0 in /Library/Frameworks/Python.framework/Versions/3.9/lib/python3.9/site-packages (from fsspec[http]<=2024.9.0,>=2023.1.0->datasets) (2024.9.0)\n",
      "Requirement already satisfied: aiohttp in /Library/Frameworks/Python.framework/Versions/3.9/lib/python3.9/site-packages (from datasets) (3.11.9)\n",
      "Requirement already satisfied: typing-extensions>=4.8.0 in /Users/jenniferzhuang/Library/Python/3.9/lib/python/site-packages (from torch) (4.12.2)\n",
      "Requirement already satisfied: sympy in /Library/Frameworks/Python.framework/Versions/3.9/lib/python3.9/site-packages (from torch) (1.13.3)\n",
      "Requirement already satisfied: networkx in /Library/Frameworks/Python.framework/Versions/3.9/lib/python3.9/site-packages (from torch) (3.2.1)\n",
      "Requirement already satisfied: jinja2 in /Library/Frameworks/Python.framework/Versions/3.9/lib/python3.9/site-packages (from torch) (3.1.4)\n",
      "Requirement already satisfied: aiohappyeyeballs>=2.3.0 in /Library/Frameworks/Python.framework/Versions/3.9/lib/python3.9/site-packages (from aiohttp->datasets) (2.4.4)\n",
      "Requirement already satisfied: aiosignal>=1.1.2 in /Library/Frameworks/Python.framework/Versions/3.9/lib/python3.9/site-packages (from aiohttp->datasets) (1.3.1)\n",
      "Requirement already satisfied: async-timeout<6.0,>=4.0 in /Library/Frameworks/Python.framework/Versions/3.9/lib/python3.9/site-packages (from aiohttp->datasets) (5.0.1)\n",
      "Requirement already satisfied: attrs>=17.3.0 in /Library/Frameworks/Python.framework/Versions/3.9/lib/python3.9/site-packages (from aiohttp->datasets) (24.2.0)\n",
      "Requirement already satisfied: frozenlist>=1.1.1 in /Library/Frameworks/Python.framework/Versions/3.9/lib/python3.9/site-packages (from aiohttp->datasets) (1.5.0)\n",
      "Requirement already satisfied: multidict<7.0,>=4.5 in /Library/Frameworks/Python.framework/Versions/3.9/lib/python3.9/site-packages (from aiohttp->datasets) (6.1.0)\n",
      "Requirement already satisfied: propcache>=0.2.0 in /Library/Frameworks/Python.framework/Versions/3.9/lib/python3.9/site-packages (from aiohttp->datasets) (0.2.1)\n",
      "Requirement already satisfied: yarl<2.0,>=1.17.0 in /Library/Frameworks/Python.framework/Versions/3.9/lib/python3.9/site-packages (from aiohttp->datasets) (1.18.3)\n",
      "Requirement already satisfied: charset-normalizer<4,>=2 in /Library/Frameworks/Python.framework/Versions/3.9/lib/python3.9/site-packages (from requests->transformers) (3.4.0)\n",
      "Requirement already satisfied: idna<4,>=2.5 in /Library/Frameworks/Python.framework/Versions/3.9/lib/python3.9/site-packages (from requests->transformers) (3.10)\n",
      "Requirement already satisfied: urllib3<3,>=1.21.1 in /Library/Frameworks/Python.framework/Versions/3.9/lib/python3.9/site-packages (from requests->transformers) (2.2.3)\n",
      "Requirement already satisfied: certifi>=2017.4.17 in /Library/Frameworks/Python.framework/Versions/3.9/lib/python3.9/site-packages (from requests->transformers) (2024.8.30)\n",
      "Requirement already satisfied: MarkupSafe>=2.0 in /Library/Frameworks/Python.framework/Versions/3.9/lib/python3.9/site-packages (from jinja2->torch) (3.0.2)\n",
      "Requirement already satisfied: python-dateutil>=2.8.2 in /Users/jenniferzhuang/Library/Python/3.9/lib/python/site-packages (from pandas->datasets) (2.9.0.post0)\n",
      "Requirement already satisfied: pytz>=2020.1 in /Library/Frameworks/Python.framework/Versions/3.9/lib/python3.9/site-packages (from pandas->datasets) (2024.2)\n",
      "Requirement already satisfied: tzdata>=2022.7 in /Library/Frameworks/Python.framework/Versions/3.9/lib/python3.9/site-packages (from pandas->datasets) (2024.2)\n",
      "Requirement already satisfied: mpmath<1.4,>=1.1.0 in /Library/Frameworks/Python.framework/Versions/3.9/lib/python3.9/site-packages (from sympy->torch) (1.3.0)\n",
      "Requirement already satisfied: six>=1.5 in /Users/jenniferzhuang/Library/Python/3.9/lib/python/site-packages (from python-dateutil>=2.8.2->pandas->datasets) (1.16.0)\n",
      "Note: you may need to restart the kernel to use updated packages.\n"
     ]
    }
   ],
   "source": [
    "pip install transformers datasets torch"
   ]
  },
  {
   "cell_type": "code",
   "execution_count": 67,
   "metadata": {},
   "outputs": [],
   "source": [
    "from transformers import BertTokenizer, Trainer, TrainingArguments\n",
    "from datasets import load_dataset, Dataset\n",
    "import torch"
   ]
  },
  {
   "cell_type": "code",
   "execution_count": 68,
   "metadata": {},
   "outputs": [],
   "source": [
    "# Load training utterances and answers\n",
    "with open(\"data/train_utt.txt\", \"r\") as f:\n",
    "    utterances = f.readlines()\n",
    "\n",
    "with open(\"./data/train_ans.txt\", \"r\") as f:\n",
    "    slots = f.readlines()\n",
    "\n",
    "# Strip whitespace\n",
    "utterances = [utt.strip() for utt in utterances]\n",
    "slots = [slot.strip() for slot in slots]\n"
   ]
  },
  {
   "cell_type": "markdown",
   "metadata": {},
   "source": [
    "Parsing slot annotations into dictionaries and pairing them with their respective utterances. This part was intended to help us understanding the parsing process for our utterances. "
   ]
  },
  {
   "cell_type": "markdown",
   "metadata": {},
   "source": [
    "Future implementation: for higher-level intent, we should do use_cases and do single canonical use cases. For example \"school\", \"work\". "
   ]
  },
  {
   "cell_type": "code",
   "execution_count": 69,
   "metadata": {},
   "outputs": [
    {
     "name": "stdout",
     "output_type": "stream",
     "text": [
      "Utterance 1: Can you show me laptops from a specific brand, like Apple?\n",
      "{'brand': 'Apple'}\n",
      "\n",
      "Utterance 2: I need a budget-friendly laptop. What’s the cheapest one you have?\n",
      "{'price': 'cheap'}\n",
      "\n",
      "Utterance 3: I need a laptop with a powerful processor for heavy tasks. Any suggestions?\n",
      "{'processor_tier': 'high'}\n",
      "\n",
      "Utterance 4: Can you recommend a laptop with at least a Core i5 processor?\n",
      "{'processor_tier': 'i5+'}\n",
      "\n",
      "Utterance 5: I need a compact laptop with a smaller display. What are my options?\n",
      "{'display_size': 'small'}\n",
      "\n",
      "Utterance 6: What’s the most affordable laptop with a 15.6-inch display?\n",
      "{'display_size': '15.6', 'price': 'cheap'}\n",
      "\n",
      "Utterance 7: I am trying to find a laptop that has a core i9 processor and display size of 15.6, what are my options?\n",
      "{'processor_tier': 'i9', 'display_size': '15.6'}\n",
      "\n",
      "Utterance 8: I am looking specifically for a Samsung laptop.\n",
      "{'brand': 'Samsung'}\n",
      "\n",
      "Utterance 9: I want a laptop that has at least 16GB RAM and doesn’t cost more than $500. Any options?\n",
      "{'ram_memory': '16GB', 'price': '500'}\n",
      "\n",
      "Utterance 10: What’s the best laptop for coding with lots of RAM and a decent processor?\n",
      "{'ram_memory': '16GB+', 'processor_tier': 'decent'}\n",
      "\n"
     ]
    }
   ],
   "source": [
    "def parse_slots(slot):\n",
    "    pairs = slot.split(\"|\")[1:] \n",
    "    slot_dict = {}\n",
    "    for pair in pairs:\n",
    "        key, value = pair.split(\"=\")\n",
    "        slot_dict[key] = value\n",
    "    return slot_dict\n",
    "\n",
    "# Convert slot strings to dictionaries\n",
    "slot_dicts = [parse_slots(slot) for slot in slots]\n",
    "\n",
    "# Combine utterances with their parsed slot dictionaries\n",
    "utterance_slot_pairs = list(zip(utterances, slot_dicts))\n",
    "\n",
    "# Display the parsed dictionaries\n",
    "for i, (utterance, slot_dict) in enumerate(utterance_slot_pairs[:10]):  # Limit to first 10\n",
    "    print(f\"Utterance {i+1}: {utterance}\")\n",
    "    print(f\"{slot_dict}\")\n",
    "    print()"
   ]
  },
  {
   "cell_type": "code",
   "execution_count": 70,
   "metadata": {},
   "outputs": [
    {
     "data": {
      "text/plain": [
       "{'find_laptop': defaultdict(set, {})}"
      ]
     },
     "execution_count": 70,
     "metadata": {},
     "output_type": "execute_result"
    }
   ],
   "source": [
    "from collections import defaultdict\n",
    "intent_dic = {'find_laptop':defaultdict(set)}\n",
    "intent_dic"
   ]
  },
  {
   "cell_type": "code",
   "execution_count": 71,
   "metadata": {},
   "outputs": [
    {
     "name": "stdout",
     "output_type": "stream",
     "text": [
      "{'find_laptop': defaultdict(<class 'set'>, {'brand': {'ASUS', 'lenovo', 'Apple', 'Microsoft', 'Samsung', 'HP', 'Dell'}, 'price': {'700', '500', 'mid-range', 'expensive', 'cheap'}, 'processor_tier': {'high', 'm2', 'decent', 'core i7', 'i7', 'i9', 'm1', 'i5+', 'latest'}, 'display_size': {'15', 'small', '13', '14', '15.6'}, 'ram_memory': {'16GB+', '16GB', 'max', '8GB', '32GB', '8GB+', '256GB+'}, 'brand!': {'Apple'}})}\n"
     ]
    }
   ],
   "source": [
    "from collections import defaultdict\n",
    "\n",
    "# Initialize dictionary for 'find_laptop' intent\n",
    "intent_dic = {'find_laptop': defaultdict(set)}\n",
    "\n",
    "# Placeholder for context and answers related to laptops\n",
    "laptop_context = []\n",
    "laptop_answers = []\n",
    "\n",
    "# File paths to the dataset\n",
    "utt_file_path = \"data/train_utt.txt\"\n",
    "ans_file_path = \"data/train_ans.txt\"\n",
    "\n",
    "# Process dataset to extract laptop-related information\n",
    "with open(utt_file_path, 'r') as f1:\n",
    "    with open(ans_file_path, 'r') as f2:\n",
    "        utterances = f1.readlines()\n",
    "        for i, line in enumerate(f2.readlines()):\n",
    "            a_line = line.strip()\n",
    "            ans = a_line.split('|')  \n",
    "            intent = ans[0]  # Extract the intent\n",
    "            if intent == 'find_laptop':  # Only process 'find_laptop' intent\n",
    "                for a in ans[1:]:\n",
    "                    if '=' in a:\n",
    "                        slot, value = a.split('=')  # Split slot-value pair\n",
    "                        laptop_context.append(utterances[i].strip())  # Save context\n",
    "                        laptop_answers.append(value)  # Save the value\n",
    "                        intent_dic[intent][slot].add(value)  # Add slot-value pair to intent_dic\n",
    "\n",
    "# Output the updated intent dictionary\n",
    "print(intent_dic)"
   ]
  },
  {
   "cell_type": "code",
   "execution_count": 73,
   "metadata": {},
   "outputs": [
    {
     "data": {
      "text/plain": [
       "['Can you show me laptops from a specific brand, like Apple?',\n",
       " 'I need a budget-friendly laptop. What’s the cheapest one you have?',\n",
       " 'I need a laptop with a powerful processor for heavy tasks. Any suggestions?']"
      ]
     },
     "execution_count": 73,
     "metadata": {},
     "output_type": "execute_result"
    }
   ],
   "source": [
    "laptop_context[:3]"
   ]
  },
  {
   "cell_type": "code",
   "execution_count": 72,
   "metadata": {},
   "outputs": [
    {
     "data": {
      "text/plain": [
       "['Apple', 'cheap', 'high']"
      ]
     },
     "execution_count": 72,
     "metadata": {},
     "output_type": "execute_result"
    }
   ],
   "source": [
    "laptop_answers[:3]"
   ]
  },
  {
   "cell_type": "markdown",
   "metadata": {},
   "source": [
    "Edge Case: Negation for specific "
   ]
  },
  {
   "cell_type": "code",
   "execution_count": 74,
   "metadata": {},
   "outputs": [],
   "source": [
    "from transformers import AutoTokenizer\n",
    "tokenizer = AutoTokenizer.from_pretrained(\"distilbert-base-uncased\")"
   ]
  },
  {
   "cell_type": "code",
   "execution_count": 78,
   "metadata": {},
   "outputs": [],
   "source": [
    "def get_answer_span_tensor(question, context, answer):\n",
    "    # Print inputs before tokenization\n",
    "    print(\"Question:\", question)\n",
    "    print(\"Context:\", context)\n",
    "    print(\"Answer:\", answer)\n",
    "\n",
    "    # Tokenize inputs\n",
    "    ques = tokenizer.tokenize(question)\n",
    "    context = tokenizer.tokenize(context)\n",
    "    answer = tokenizer.tokenize(answer)\n",
    "\n",
    "    # Print tokenized inputs\n",
    "    print(\"Tokenized Question:\", ques)\n",
    "    print(\"Tokenized Context:\", context)\n",
    "    print(\"Tokenized Answer:\", answer)\n",
    "\n",
    "    # Combine tokens with special tokens\n",
    "    s = [\"[CLS]\"] + ques + [\"[SEP]\"] + context + [\"[SEP]\"]\n",
    "    print(\"Combined Tokens (with special tokens):\", s)\n",
    "\n",
    "    # Initialize start and end\n",
    "    start, end = 0, 0\n",
    "\n",
    "    # Match tokens to find the answer span\n",
    "    for id_a, token_a in enumerate(answer):\n",
    "        for id_s, token_s in enumerate(s):\n",
    "            if token_a == token_s:\n",
    "                if answer == s[id_s:id_s + len(answer)]:\n",
    "                    start = id_s\n",
    "                    end = id_s + len(answer) - 1\n",
    "                    break\n",
    "                elif len(s) - id_s + 1 <= len(answer):\n",
    "                    break\n",
    "\n",
    "    # Print start and end positions\n",
    "    print(\"Start:\", start)\n",
    "    print(\"End:\", end)\n",
    "\n",
    "    return torch.tensor([start, end])\n",
    "\n"
   ]
  },
  {
   "cell_type": "code",
   "execution_count": 79,
   "metadata": {},
   "outputs": [
    {
     "name": "stdout",
     "output_type": "stream",
     "text": [
      "Question: What specifications?\n",
      "Context: I'm looking for laptops like Apple that have an M1 chip.\n",
      "Answer: Apple\n",
      "Tokenized Question: ['what', 'specifications', '?']\n",
      "Tokenized Context: ['i', \"'\", 'm', 'looking', 'for', 'laptop', '##s', 'like', 'apple', 'that', 'have', 'an', 'm1', 'chip', '.']\n",
      "Tokenized Answer: ['apple']\n",
      "Combined Tokens (with special tokens): ['[CLS]', 'what', 'specifications', '?', '[SEP]', 'i', \"'\", 'm', 'looking', 'for', 'laptop', '##s', 'like', 'apple', 'that', 'have', 'an', 'm1', 'chip', '.', '[SEP]']\n",
      "Start: 13\n",
      "End: 13\n",
      "Answer Span Tensor: tensor([13, 13])\n"
     ]
    }
   ],
   "source": [
    "# Example inputs\n",
    "test_question = \"What are you looking for in a computer?\"\n",
    "test_context = \"I'm looking for laptops like Apple that have an M1 chip.\"\n",
    "test_answer = \"Apple\"\n",
    "\n",
    "# Call function\n",
    "tensor = get_answer_span_tensor(question, context, answer)\n",
    "print(\"Answer Span Tensor:\", tensor)"
   ]
  },
  {
   "cell_type": "markdown",
   "metadata": {},
   "source": [
    "convert_to_BERT_tensors function tokenizes input questions and contexts into BERT's tensor format, including input_ids and attention_mask. These inputs are used for token-level slot labeling."
   ]
  },
  {
   "cell_type": "code",
   "execution_count": 80,
   "metadata": {},
   "outputs": [],
   "source": [
    "def convert_to_BERT_tensors(questions, contexts):\n",
    "    '''takes a parallel list of question strings and answer strings'''\n",
    "    #your code here\n",
    "    result = tokenizer(questions,contexts,  return_tensors=\"pt\", padding='max_length', truncation=True,  max_length=512)\n",
    "    return result['input_ids'], result['attention_mask']"
   ]
  },
  {
   "cell_type": "code",
   "execution_count": null,
   "metadata": {},
   "outputs": [
    {
     "name": "stdout",
     "output_type": "stream",
     "text": [
      "Success!\n"
     ]
    }
   ],
   "source": [
    "test_questions = [\"Why?\", \"How?\"]\n",
    "test_contexts = [\"I think it is because we can bluminate\", \"It was done\"\" \".join([\"very\"]*1000) + \" well\"]\n",
    "\n",
    "ids, mask = convert_to_BERT_tensors(test_questions,test_contexts)\n",
    "assert ids.shape == (2,512) # 512 because that's the max allowed sequence length for BERT\n",
    "assert ids[0][3] == 102 # fourth token is separator\n",
    "assert list(ids[0][-100:]) == [0]*100 # first row is mostly padding\n",
    "assert list(ids[1][-100:]) != [0]*100 # second row is not\n",
    "assert list(mask[0][-100:]) == [0]*100 # first row padding is masked\n",
    "assert list(mask[1][-100:]) != [0]*100 # second row is not padding, no mask\n",
    "print(\"Success!\")"
   ]
  },
  {
   "cell_type": "code",
   "execution_count": 45,
   "metadata": {},
   "outputs": [
    {
     "data": {
      "text/plain": [
       "[1, 2, 3, 4, 3, 3, 3, 3]"
      ]
     },
     "execution_count": 45,
     "metadata": {},
     "output_type": "execute_result"
    }
   ],
   "source": [
    "a = [1,2]\n",
    "b = [3,4]\n",
    "a.extend(b)\n",
    "a.extend([3]*4)\n",
    "a"
   ]
  },
  {
   "cell_type": "code",
   "execution_count": 81,
   "metadata": {},
   "outputs": [
    {
     "data": {
      "text/plain": [
       "84"
      ]
     },
     "execution_count": 81,
     "metadata": {},
     "output_type": "execute_result"
    }
   ],
   "source": [
    "laptop_question = [\"What laptop specifics?\"]*len(laptop_context)\n",
    "\n",
    "len(laptop_context)"
   ]
  },
  {
   "cell_type": "code",
   "execution_count": null,
   "metadata": {},
   "outputs": [],
   "source": [
    "#provided code\n",
    "batch_size = 16\n",
    "\n",
    "class QAdataset(Dataset):\n",
    "    '''A dataset for housing QA data, including input_data, output_data, and padding mask'''\n",
    "    def __init__(self, input_data, output_data,mask):\n",
    "        self.input_data = input_data\n",
    "        self.output_data = output_data\n",
    "        self.mask = mask\n",
    "        \n",
    "    def __len__(self):\n",
    "        return len(self.input_data)\n",
    "    \n",
    "    def __getitem__(self, index):\n",
    "        target = self.output_data[index]\n",
    "        data_val = self.input_data[index]\n",
    "        mask = self.mask[index]\n",
    "        return data_val,target,mask "
   ]
  },
  {
   "cell_type": "code",
   "execution_count": null,
   "metadata": {},
   "outputs": [],
   "source": [
    "import torch\n",
    "import torch.nn as nn  # Ensure nn is imported\n",
    "\n",
    "device = torch.device('cuda') if torch.cuda.is_available() else torch.device('cpu')\n",
    "criterion = nn.CrossEntropyLoss()\n",
    "\n",
    "# Create checkpoint directory\n",
    "import os\n",
    "if not os.path.exists(\"checkpoints\"):\n",
    "    os.makedirs(\"checkpoints\")\n"
   ]
  },
  {
   "cell_type": "code",
   "execution_count": null,
   "metadata": {},
   "outputs": [],
   "source": [
    "from transformers import AutoModelForQuestionAnswering, TrainingArguments, Trainer"
   ]
  }
 ],
 "metadata": {
  "kernelspec": {
   "display_name": "Python 3",
   "language": "python",
   "name": "python3"
  },
  "language_info": {
   "codemirror_mode": {
    "name": "ipython",
    "version": 3
   },
   "file_extension": ".py",
   "mimetype": "text/x-python",
   "name": "python",
   "nbconvert_exporter": "python",
   "pygments_lexer": "ipython3",
   "version": "3.9.7"
  }
 },
 "nbformat": 4,
 "nbformat_minor": 2
}
